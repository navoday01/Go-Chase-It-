{
  "nbformat": 4,
  "nbformat_minor": 0,
  "metadata": {
    "colab": {
      "provenance": [],
      "authorship_tag": "ABX9TyMZRkHWGe55k6z/ltw9WG9U",
      "include_colab_link": true
    },
    "kernelspec": {
      "name": "python3",
      "display_name": "Python 3"
    },
    "language_info": {
      "name": "python"
    },
    "accelerator": "GPU",
    "gpuClass": "standard",
    "widgets": {
      "application/vnd.jupyter.widget-state+json": {
        "a69210788db9408aa79cc902d3a84f8d": {
          "model_module": "@jupyter-widgets/controls",
          "model_name": "HBoxModel",
          "model_module_version": "1.5.0",
          "state": {
            "_dom_classes": [],
            "_model_module": "@jupyter-widgets/controls",
            "_model_module_version": "1.5.0",
            "_model_name": "HBoxModel",
            "_view_count": null,
            "_view_module": "@jupyter-widgets/controls",
            "_view_module_version": "1.5.0",
            "_view_name": "HBoxView",
            "box_style": "",
            "children": [
              "IPY_MODEL_8a5d7ad9632a4b83a642149db94d18d5",
              "IPY_MODEL_3ccb1cb7510243a2aba5fe28f18944fd",
              "IPY_MODEL_eb9841cfff03403b9a4a506b1c433e06"
            ],
            "layout": "IPY_MODEL_05ad8a2b9a6040ad97ff531bdc8ae004"
          }
        },
        "8a5d7ad9632a4b83a642149db94d18d5": {
          "model_module": "@jupyter-widgets/controls",
          "model_name": "HTMLModel",
          "model_module_version": "1.5.0",
          "state": {
            "_dom_classes": [],
            "_model_module": "@jupyter-widgets/controls",
            "_model_module_version": "1.5.0",
            "_model_name": "HTMLModel",
            "_view_count": null,
            "_view_module": "@jupyter-widgets/controls",
            "_view_module_version": "1.5.0",
            "_view_name": "HTMLView",
            "description": "",
            "description_tooltip": null,
            "layout": "IPY_MODEL_d2d01deb5f57497d855f3fba1aad7240",
            "placeholder": "​",
            "style": "IPY_MODEL_c830890548f44b5dbb8e93e30935d847",
            "value": "100%"
          }
        },
        "3ccb1cb7510243a2aba5fe28f18944fd": {
          "model_module": "@jupyter-widgets/controls",
          "model_name": "FloatProgressModel",
          "model_module_version": "1.5.0",
          "state": {
            "_dom_classes": [],
            "_model_module": "@jupyter-widgets/controls",
            "_model_module_version": "1.5.0",
            "_model_name": "FloatProgressModel",
            "_view_count": null,
            "_view_module": "@jupyter-widgets/controls",
            "_view_module_version": "1.5.0",
            "_view_name": "ProgressView",
            "bar_style": "success",
            "description": "",
            "description_tooltip": null,
            "layout": "IPY_MODEL_d2b43c532885447e90ad5747d9dab6c4",
            "max": 170498071,
            "min": 0,
            "orientation": "horizontal",
            "style": "IPY_MODEL_c828b0959f0a4664b5eb1b316dfdb99f",
            "value": 170498071
          }
        },
        "eb9841cfff03403b9a4a506b1c433e06": {
          "model_module": "@jupyter-widgets/controls",
          "model_name": "HTMLModel",
          "model_module_version": "1.5.0",
          "state": {
            "_dom_classes": [],
            "_model_module": "@jupyter-widgets/controls",
            "_model_module_version": "1.5.0",
            "_model_name": "HTMLModel",
            "_view_count": null,
            "_view_module": "@jupyter-widgets/controls",
            "_view_module_version": "1.5.0",
            "_view_name": "HTMLView",
            "description": "",
            "description_tooltip": null,
            "layout": "IPY_MODEL_55618d2f4915436e98b8c64a7fc11d20",
            "placeholder": "​",
            "style": "IPY_MODEL_7a9fcf14dd3e451793d48af1567cd300",
            "value": " 170498071/170498071 [00:13&lt;00:00, 13766401.64it/s]"
          }
        },
        "05ad8a2b9a6040ad97ff531bdc8ae004": {
          "model_module": "@jupyter-widgets/base",
          "model_name": "LayoutModel",
          "model_module_version": "1.2.0",
          "state": {
            "_model_module": "@jupyter-widgets/base",
            "_model_module_version": "1.2.0",
            "_model_name": "LayoutModel",
            "_view_count": null,
            "_view_module": "@jupyter-widgets/base",
            "_view_module_version": "1.2.0",
            "_view_name": "LayoutView",
            "align_content": null,
            "align_items": null,
            "align_self": null,
            "border": null,
            "bottom": null,
            "display": null,
            "flex": null,
            "flex_flow": null,
            "grid_area": null,
            "grid_auto_columns": null,
            "grid_auto_flow": null,
            "grid_auto_rows": null,
            "grid_column": null,
            "grid_gap": null,
            "grid_row": null,
            "grid_template_areas": null,
            "grid_template_columns": null,
            "grid_template_rows": null,
            "height": null,
            "justify_content": null,
            "justify_items": null,
            "left": null,
            "margin": null,
            "max_height": null,
            "max_width": null,
            "min_height": null,
            "min_width": null,
            "object_fit": null,
            "object_position": null,
            "order": null,
            "overflow": null,
            "overflow_x": null,
            "overflow_y": null,
            "padding": null,
            "right": null,
            "top": null,
            "visibility": null,
            "width": null
          }
        },
        "d2d01deb5f57497d855f3fba1aad7240": {
          "model_module": "@jupyter-widgets/base",
          "model_name": "LayoutModel",
          "model_module_version": "1.2.0",
          "state": {
            "_model_module": "@jupyter-widgets/base",
            "_model_module_version": "1.2.0",
            "_model_name": "LayoutModel",
            "_view_count": null,
            "_view_module": "@jupyter-widgets/base",
            "_view_module_version": "1.2.0",
            "_view_name": "LayoutView",
            "align_content": null,
            "align_items": null,
            "align_self": null,
            "border": null,
            "bottom": null,
            "display": null,
            "flex": null,
            "flex_flow": null,
            "grid_area": null,
            "grid_auto_columns": null,
            "grid_auto_flow": null,
            "grid_auto_rows": null,
            "grid_column": null,
            "grid_gap": null,
            "grid_row": null,
            "grid_template_areas": null,
            "grid_template_columns": null,
            "grid_template_rows": null,
            "height": null,
            "justify_content": null,
            "justify_items": null,
            "left": null,
            "margin": null,
            "max_height": null,
            "max_width": null,
            "min_height": null,
            "min_width": null,
            "object_fit": null,
            "object_position": null,
            "order": null,
            "overflow": null,
            "overflow_x": null,
            "overflow_y": null,
            "padding": null,
            "right": null,
            "top": null,
            "visibility": null,
            "width": null
          }
        },
        "c830890548f44b5dbb8e93e30935d847": {
          "model_module": "@jupyter-widgets/controls",
          "model_name": "DescriptionStyleModel",
          "model_module_version": "1.5.0",
          "state": {
            "_model_module": "@jupyter-widgets/controls",
            "_model_module_version": "1.5.0",
            "_model_name": "DescriptionStyleModel",
            "_view_count": null,
            "_view_module": "@jupyter-widgets/base",
            "_view_module_version": "1.2.0",
            "_view_name": "StyleView",
            "description_width": ""
          }
        },
        "d2b43c532885447e90ad5747d9dab6c4": {
          "model_module": "@jupyter-widgets/base",
          "model_name": "LayoutModel",
          "model_module_version": "1.2.0",
          "state": {
            "_model_module": "@jupyter-widgets/base",
            "_model_module_version": "1.2.0",
            "_model_name": "LayoutModel",
            "_view_count": null,
            "_view_module": "@jupyter-widgets/base",
            "_view_module_version": "1.2.0",
            "_view_name": "LayoutView",
            "align_content": null,
            "align_items": null,
            "align_self": null,
            "border": null,
            "bottom": null,
            "display": null,
            "flex": null,
            "flex_flow": null,
            "grid_area": null,
            "grid_auto_columns": null,
            "grid_auto_flow": null,
            "grid_auto_rows": null,
            "grid_column": null,
            "grid_gap": null,
            "grid_row": null,
            "grid_template_areas": null,
            "grid_template_columns": null,
            "grid_template_rows": null,
            "height": null,
            "justify_content": null,
            "justify_items": null,
            "left": null,
            "margin": null,
            "max_height": null,
            "max_width": null,
            "min_height": null,
            "min_width": null,
            "object_fit": null,
            "object_position": null,
            "order": null,
            "overflow": null,
            "overflow_x": null,
            "overflow_y": null,
            "padding": null,
            "right": null,
            "top": null,
            "visibility": null,
            "width": null
          }
        },
        "c828b0959f0a4664b5eb1b316dfdb99f": {
          "model_module": "@jupyter-widgets/controls",
          "model_name": "ProgressStyleModel",
          "model_module_version": "1.5.0",
          "state": {
            "_model_module": "@jupyter-widgets/controls",
            "_model_module_version": "1.5.0",
            "_model_name": "ProgressStyleModel",
            "_view_count": null,
            "_view_module": "@jupyter-widgets/base",
            "_view_module_version": "1.2.0",
            "_view_name": "StyleView",
            "bar_color": null,
            "description_width": ""
          }
        },
        "55618d2f4915436e98b8c64a7fc11d20": {
          "model_module": "@jupyter-widgets/base",
          "model_name": "LayoutModel",
          "model_module_version": "1.2.0",
          "state": {
            "_model_module": "@jupyter-widgets/base",
            "_model_module_version": "1.2.0",
            "_model_name": "LayoutModel",
            "_view_count": null,
            "_view_module": "@jupyter-widgets/base",
            "_view_module_version": "1.2.0",
            "_view_name": "LayoutView",
            "align_content": null,
            "align_items": null,
            "align_self": null,
            "border": null,
            "bottom": null,
            "display": null,
            "flex": null,
            "flex_flow": null,
            "grid_area": null,
            "grid_auto_columns": null,
            "grid_auto_flow": null,
            "grid_auto_rows": null,
            "grid_column": null,
            "grid_gap": null,
            "grid_row": null,
            "grid_template_areas": null,
            "grid_template_columns": null,
            "grid_template_rows": null,
            "height": null,
            "justify_content": null,
            "justify_items": null,
            "left": null,
            "margin": null,
            "max_height": null,
            "max_width": null,
            "min_height": null,
            "min_width": null,
            "object_fit": null,
            "object_position": null,
            "order": null,
            "overflow": null,
            "overflow_x": null,
            "overflow_y": null,
            "padding": null,
            "right": null,
            "top": null,
            "visibility": null,
            "width": null
          }
        },
        "7a9fcf14dd3e451793d48af1567cd300": {
          "model_module": "@jupyter-widgets/controls",
          "model_name": "DescriptionStyleModel",
          "model_module_version": "1.5.0",
          "state": {
            "_model_module": "@jupyter-widgets/controls",
            "_model_module_version": "1.5.0",
            "_model_name": "DescriptionStyleModel",
            "_view_count": null,
            "_view_module": "@jupyter-widgets/base",
            "_view_module_version": "1.2.0",
            "_view_name": "StyleView",
            "description_width": ""
          }
        }
      }
    }
  },
  "cells": [
    {
      "cell_type": "markdown",
      "metadata": {
        "id": "view-in-github",
        "colab_type": "text"
      },
      "source": [
        "<a href=\"https://colab.research.google.com/github/navoday01/Go-Chase-It-/blob/main/models/Quick%20Train%20on%20Collab.ipynb\" target=\"_parent\"><img src=\"https://colab.research.google.com/assets/colab-badge.svg\" alt=\"Open In Colab\"/></a>"
      ]
    },
    {
      "cell_type": "code",
      "execution_count": 1,
      "metadata": {
        "id": "-OU22Nni25nD"
      },
      "outputs": [],
      "source": [
        "# Importing libraries:\n",
        "import torch\n",
        "import torchvision\n",
        "from torch import nn\n",
        "from tqdm import tqdm\n",
        "import numpy as np\n",
        "import torch.optim as optim\n",
        "import torch.nn.functional as F\n",
        "import matplotlib.pyplot as plt\n",
        "from torch.utils.data import DataLoader\n",
        "from torchvision import datasets,transforms\n",
        "from torchvision.transforms import ToTensor\n",
        "from torch.optim.lr_scheduler import OneCycleLR\n",
        "from torchsummary import summary\n",
        "from torchvision.utils import make_grid"
      ]
    },
    {
      "cell_type": "code",
      "source": [
        "# Defining transforms for training and testing data:\n",
        "transform = transforms.Compose(\n",
        "\t\t[transforms.RandomCrop(32, padding=4),\n",
        "\t\t transforms.RandomHorizontalFlip(),\n",
        "\t\t transforms.ToTensor(),\n",
        "\t\t transforms.Normalize((0.5, 0.5, 0.5), (0.5, 0.5, 0.5))])"
      ],
      "metadata": {
        "id": "QlC62hpO3NzG"
      },
      "execution_count": 2,
      "outputs": []
    },
    {
      "cell_type": "code",
      "source": [
        "# Downloading training and testing data:\n",
        "trainset = torchvision.datasets.CIFAR10(root='./data', train=True, download=True, transform=transform)\n",
        "testset = torchvision.datasets.CIFAR10(root='./data', train=False, download=True, transform=transform)"
      ],
      "metadata": {
        "colab": {
          "base_uri": "https://localhost:8080/",
          "height": 101,
          "referenced_widgets": [
            "a69210788db9408aa79cc902d3a84f8d",
            "8a5d7ad9632a4b83a642149db94d18d5",
            "3ccb1cb7510243a2aba5fe28f18944fd",
            "eb9841cfff03403b9a4a506b1c433e06",
            "05ad8a2b9a6040ad97ff531bdc8ae004",
            "d2d01deb5f57497d855f3fba1aad7240",
            "c830890548f44b5dbb8e93e30935d847",
            "d2b43c532885447e90ad5747d9dab6c4",
            "c828b0959f0a4664b5eb1b316dfdb99f",
            "55618d2f4915436e98b8c64a7fc11d20",
            "7a9fcf14dd3e451793d48af1567cd300"
          ]
        },
        "id": "nbUozjIN3R4d",
        "outputId": "8a63d42e-ce1d-4a89-8da9-fd7266206f78"
      },
      "execution_count": 3,
      "outputs": [
        {
          "output_type": "stream",
          "name": "stdout",
          "text": [
            "Downloading https://www.cs.toronto.edu/~kriz/cifar-10-python.tar.gz to ./data/cifar-10-python.tar.gz\n"
          ]
        },
        {
          "output_type": "display_data",
          "data": {
            "text/plain": [
              "  0%|          | 0/170498071 [00:00<?, ?it/s]"
            ],
            "application/vnd.jupyter.widget-view+json": {
              "version_major": 2,
              "version_minor": 0,
              "model_id": "a69210788db9408aa79cc902d3a84f8d"
            }
          },
          "metadata": {}
        },
        {
          "output_type": "stream",
          "name": "stdout",
          "text": [
            "Extracting ./data/cifar-10-python.tar.gz to ./data\n",
            "Files already downloaded and verified\n"
          ]
        }
      ]
    },
    {
      "cell_type": "code",
      "source": [
        "# Initializing batch size:\n",
        "batch=32"
      ],
      "metadata": {
        "id": "5-T5hBOw3VVo"
      },
      "execution_count": 4,
      "outputs": []
    },
    {
      "cell_type": "code",
      "source": [
        "# Creating training and testing dataloaders:\n",
        "train_loader = torch.utils.data.DataLoader(trainset, batch_size=batch, shuffle=True, num_workers=4)\n",
        "test_loader = torch.utils.data.DataLoader(testset, batch_size=batch, shuffle=False, num_workers=4)"
      ],
      "metadata": {
        "id": "suX-HtYR3Ydn",
        "colab": {
          "base_uri": "https://localhost:8080/"
        },
        "outputId": "8cc8c8e4-522e-4edd-b001-32dfde0023a1"
      },
      "execution_count": 5,
      "outputs": [
        {
          "output_type": "stream",
          "name": "stderr",
          "text": [
            "/usr/local/lib/python3.7/dist-packages/torch/utils/data/dataloader.py:566: UserWarning: This DataLoader will create 4 worker processes in total. Our suggested max number of worker in current system is 2, which is smaller than what this DataLoader is going to create. Please be aware that excessive worker creation might get DataLoader running slow or even freeze, lower the worker number to avoid potential slowness/freeze if necessary.\n",
            "  cpuset_checked))\n"
          ]
        }
      ]
    },
    {
      "cell_type": "code",
      "source": [
        "#visualizing training data\n",
        "\n",
        "data_stats = [(0.5,0.5,0.5),(0.5,0.5,0.5)]\n",
        "\n",
        "def denormalize(images,means,stdDev):\n",
        "    means = torch.tensor(means).reshape(1,3,1,1)\n",
        "    stdDev = torch.tensor(means).reshape(1,3,1,1)\n",
        "    return(images*stdDev+means)\n",
        "\n",
        "def showPreview(dl):\n",
        "\n",
        "    for images,labels in dl:\n",
        "        fig,ax = plt.subplots(figsize=(10,10))\n",
        "        ax.imshow(make_grid(denormalize(images,*data_stats),10).permute(1,2,0))\n",
        "        break\n",
        "\n",
        "showPreview(train_loader)  "
      ],
      "metadata": {
        "colab": {
          "base_uri": "https://localhost:8080/",
          "height": 331
        },
        "id": "DaHDIo8EF0sr",
        "outputId": "216d5cb7-3aa6-4029-f57f-1a1d2e36cad7"
      },
      "execution_count": 6,
      "outputs": [
        {
          "output_type": "stream",
          "name": "stderr",
          "text": [
            "/usr/local/lib/python3.7/dist-packages/ipykernel_launcher.py:7: UserWarning: To copy construct from a tensor, it is recommended to use sourceTensor.clone().detach() or sourceTensor.clone().detach().requires_grad_(True), rather than torch.tensor(sourceTensor).\n",
            "  import sys\n"
          ]
        },
        {
          "output_type": "display_data",
          "data": {
            "text/plain": [
              "<Figure size 720x720 with 1 Axes>"
            ],
            "image/png": "[encoded data removed]"
          },
          "metadata": {
            "needs_background": "light"
          }
        }
      ]
    },
    {
      "cell_type": "code",
      "source": [
        "# Getting class names from the dataset:\n",
        "classes = trainset.class_to_idx"
      ],
      "metadata": {
        "id": "qAtPbgUk3bQn"
      },
      "execution_count": 7,
      "outputs": []
    },
    {
      "cell_type": "code",
      "source": [
        "# Defining basic block:\n",
        "class BasicBlock(nn.Module):\n",
        "\n",
        "    def __init__(self, in_planes, planes, stride=1,dropout =0.2):\n",
        "        super(BasicBlock, self).__init__()\n",
        "        \n",
        "        self.conv1 = nn.Conv2d(in_planes, planes, kernel_size=3, stride=stride, padding=1, bias=False)    \n",
        "        self.bn1 = nn.BatchNorm2d(planes)\n",
        "        self.conv2 = nn.Conv2d(planes, planes, kernel_size=3,stride=1, padding=1, bias=False)\n",
        "        self.bn2 = nn.BatchNorm2d(planes)\n",
        "        self.dropout = nn.Dropout(p = dropout)\n",
        "        self.shortcut = nn.Sequential()\n",
        "        if stride != 1 or in_planes != planes:\n",
        "            self.shortcut = nn.Sequential(\n",
        "                nn.Conv2d(in_planes, planes,\n",
        "                          kernel_size=1, stride=stride, bias=False),\n",
        "                nn.BatchNorm2d(planes)\n",
        "            )\n",
        "\n",
        "    def forward(self, x):\n",
        "        out = self.dropout(F.relu(self.bn1(self.conv1(x))))\n",
        "        out = self.bn2(self.conv2(out))\n",
        "        out += self.shortcut(x)\n",
        "        out = F.relu(out)\n",
        "        return out"
      ],
      "metadata": {
        "id": "Pt5oYt5I3e1K"
      },
      "execution_count": 8,
      "outputs": []
    },
    {
      "cell_type": "code",
      "source": [
        "# Defining Resnet architecture:\n",
        "class ResNet(nn.Module):\n",
        "    def __init__(self, block, num_blocks, num_classes=10,dropout =0.2):\n",
        "        super(ResNet, self).__init__()\n",
        "        self.in_planes = 64\n",
        "\n",
        "        self.conv1 = nn.Conv2d(3, 64, kernel_size=3,stride=1, padding=1, bias=False)\n",
        "        self.bn1 = nn.BatchNorm2d(64)\n",
        "        self.layer1 = self._make_layer(block, 64, num_blocks[0], stride=1)\n",
        "        self.layer2 = self._make_layer(block, 128, num_blocks[1], stride=2)\n",
        "        self.layer3 = self._make_layer(block, 192, num_blocks[2], stride=2)\n",
        "        self.layer4 = self._make_layer(block, 256, num_blocks[3], stride=2)\n",
        "        self.linear = nn.Linear(256, num_classes)\n",
        "        self.dropout = nn.Dropout(p = dropout)\n",
        "        \n",
        "    def _make_layer(self, block, planes, num_blocks, stride):\n",
        "        strides = [stride] + [1]*(num_blocks-1)\n",
        "        layers = []\n",
        "        for stride in strides:\n",
        "            layers.append(block(self.in_planes, planes, stride))\n",
        "            self.in_planes = planes\n",
        "        return nn.Sequential(*layers)\n",
        "\n",
        "    def forward(self, x):\n",
        "        out = self.dropout(F.relu(self.bn1(self.conv1(x)))) \n",
        "        out = self.layer1(out)\n",
        "        out = self.layer2(out)\n",
        "        out = self.layer3(out)\n",
        "        out = self.layer4(out)\n",
        "        out = F.avg_pool2d(out, 4)\n",
        "        out = out.view(out.size(0), -1)\n",
        "        out = self.linear(out)\n",
        "        return out"
      ],
      "metadata": {
        "id": "sSOUmofS3j2j"
      },
      "execution_count": 9,
      "outputs": []
    },
    {
      "cell_type": "code",
      "source": [
        "# Creating lists for train and test loss and accuracies:\n",
        "train_losses = []\n",
        "train_acc = []\n",
        "test_losses_l1 = []\n",
        "test_acc_l1 = []"
      ],
      "metadata": {
        "id": "Cfpw1e7u3m9U"
      },
      "execution_count": 10,
      "outputs": []
    },
    {
      "cell_type": "code",
      "source": [
        "# Function train:\n",
        "def train(model, device, train_loader, optimizer, epoch):\n",
        "  model.train()\n",
        "  pbar=tqdm(train_loader)\n",
        "  correct = 0\n",
        "  processed = 0\n",
        "  criterion= nn.CrossEntropyLoss().to(device)\n",
        "  for batch_idx, (data, target) in enumerate(pbar):\n",
        "    data, target = data.to(device), target.to(device)\n",
        "    optimizer.zero_grad()\n",
        "    y_pred = model(data)\n",
        "    loss  = criterion(y_pred, target)\n",
        "    train_losses.append(loss)\n",
        "    loss.backward()\n",
        "    optimizer.step()\n",
        "\n",
        "    pred = y_pred.argmax(dim=1, keepdim=True)  # get the index of the max log-probability\n",
        "    correct += pred.eq(target.view_as(pred)).sum().item()\n",
        "    processed += len(data)\n",
        "    pbar.set_description(desc= f'Loss={loss.item()} Batch_id={batch_idx} Accuracy={100*correct/processed:0.2f}')\n",
        "  train_acc.append(100*correct/processed)"
      ],
      "metadata": {
        "id": "zGVb9Fh93q6D"
      },
      "execution_count": 11,
      "outputs": []
    },
    {
      "cell_type": "code",
      "source": [
        "# Function test:\n",
        "def test(model, device, test_loader):\n",
        "    model.eval()\n",
        "    test_loss = 0\n",
        "    correct = 0\n",
        "    criterion= nn.CrossEntropyLoss().to(device)\n",
        "    with torch.no_grad():\n",
        "        for data, target in test_loader:\n",
        "            data, target = data.to(device), target.to(device)\n",
        "            output = model(data)\n",
        "            test_loss += criterion(output, target).item()\n",
        "            pred = output.argmax(dim=1, keepdim=True)\n",
        "            correct += pred.eq(target.view_as(pred)).sum().item()\n",
        "    test_loss /= len(test_loader.dataset)\n",
        "    test_losses_l1.append(test_loss)\n",
        "    print('\\nTest set: Average loss: {:.4f}, Accuracy: {}/{} ({:.4f}%)\\n'.format(test_loss, correct, len(test_loader.dataset),\n",
        "        100. * correct / len(test_loader.dataset)))\n",
        "    test_acc_l1.append(100. * correct / len(test_loader.dataset))"
      ],
      "metadata": {
        "id": "PxAgqIY03uJI"
      },
      "execution_count": 12,
      "outputs": []
    },
    {
      "cell_type": "code",
      "source": [
        "# Geting cpu or gpu device for training:\n",
        "device = \"cuda\" if torch.cuda.is_available() else \"cpu\"\n",
        "print(f\"Using {device} device\")"
      ],
      "metadata": {
        "colab": {
          "base_uri": "https://localhost:8080/"
        },
        "id": "K3as2YDJ3xxZ",
        "outputId": "6044a9b4-eba5-4cb5-de52-d5fb6ac5ef66"
      },
      "execution_count": 13,
      "outputs": [
        {
          "output_type": "stream",
          "name": "stdout",
          "text": [
            "Using cuda device\n"
          ]
        }
      ]
    },
    {
      "cell_type": "code",
      "source": [
        "model = ResNet(BasicBlock, [2,3,2,2]).to(device)\n",
        "model"
      ],
      "metadata": {
        "colab": {
          "base_uri": "https://localhost:8080/"
        },
        "id": "eBRhE84Y305O",
        "outputId": "65d47f09-d410-421f-fa31-f7132cdc4c37"
      },
      "execution_count": 14,
      "outputs": [
        {
          "output_type": "execute_result",
          "data": {
            "text/plain": [
              "ResNet(\n",
              "  (conv1): Conv2d(3, 64, kernel_size=(3, 3), stride=(1, 1), padding=(1, 1), bias=False)\n",
              "  (bn1): BatchNorm2d(64, eps=1e-05, momentum=0.1, affine=True, track_running_stats=True)\n",
              "  (layer1): Sequential(\n",
              "    (0): BasicBlock(\n",
              "      (conv1): Conv2d(64, 64, kernel_size=(3, 3), stride=(1, 1), padding=(1, 1), bias=False)\n",
              "      (bn1): BatchNorm2d(64, eps=1e-05, momentum=0.1, affine=True, track_running_stats=True)\n",
              "      (conv2): Conv2d(64, 64, kernel_size=(3, 3), stride=(1, 1), padding=(1, 1), bias=False)\n",
              "      (bn2): BatchNorm2d(64, eps=1e-05, momentum=0.1, affine=True, track_running_stats=True)\n",
              "      (dropout): Dropout(p=0.2, inplace=False)\n",
              "      (shortcut): Sequential()\n",
              "    )\n",
              "    (1): BasicBlock(\n",
              "      (conv1): Conv2d(64, 64, kernel_size=(3, 3), stride=(1, 1), padding=(1, 1), bias=False)\n",
              "      (bn1): BatchNorm2d(64, eps=1e-05, momentum=0.1, affine=True, track_running_stats=True)\n",
              "      (conv2): Conv2d(64, 64, kernel_size=(3, 3), stride=(1, 1), padding=(1, 1), bias=False)\n",
              "      (bn2): BatchNorm2d(64, eps=1e-05, momentum=0.1, affine=True, track_running_stats=True)\n",
              "      (dropout): Dropout(p=0.2, inplace=False)\n",
              "      (shortcut): Sequential()\n",
              "    )\n",
              "  )\n",
              "  (layer2): Sequential(\n",
              "    (0): BasicBlock(\n",
              "      (conv1): Conv2d(64, 128, kernel_size=(3, 3), stride=(2, 2), padding=(1, 1), bias=False)\n",
              "      (bn1): BatchNorm2d(128, eps=1e-05, momentum=0.1, affine=True, track_running_stats=True)\n",
              "      (conv2): Conv2d(128, 128, kernel_size=(3, 3), stride=(1, 1), padding=(1, 1), bias=False)\n",
              "      (bn2): BatchNorm2d(128, eps=1e-05, momentum=0.1, affine=True, track_running_stats=True)\n",
              "      (dropout): Dropout(p=0.2, inplace=False)\n",
              "      (shortcut): Sequential(\n",
              "        (0): Conv2d(64, 128, kernel_size=(1, 1), stride=(2, 2), bias=False)\n",
              "        (1): BatchNorm2d(128, eps=1e-05, momentum=0.1, affine=True, track_running_stats=True)\n",
              "      )\n",
              "    )\n",
              "    (1): BasicBlock(\n",
              "      (conv1): Conv2d(128, 128, kernel_size=(3, 3), stride=(1, 1), padding=(1, 1), bias=False)\n",
              "      (bn1): BatchNorm2d(128, eps=1e-05, momentum=0.1, affine=True, track_running_stats=True)\n",
              "      (conv2): Conv2d(128, 128, kernel_size=(3, 3), stride=(1, 1), padding=(1, 1), bias=False)\n",
              "      (bn2): BatchNorm2d(128, eps=1e-05, momentum=0.1, affine=True, track_running_stats=True)\n",
              "      (dropout): Dropout(p=0.2, inplace=False)\n",
              "      (shortcut): Sequential()\n",
              "    )\n",
              "    (2): BasicBlock(\n",
              "      (conv1): Conv2d(128, 128, kernel_size=(3, 3), stride=(1, 1), padding=(1, 1), bias=False)\n",
              "      (bn1): BatchNorm2d(128, eps=1e-05, momentum=0.1, affine=True, track_running_stats=True)\n",
              "      (conv2): Conv2d(128, 128, kernel_size=(3, 3), stride=(1, 1), padding=(1, 1), bias=False)\n",
              "      (bn2): BatchNorm2d(128, eps=1e-05, momentum=0.1, affine=True, track_running_stats=True)\n",
              "      (dropout): Dropout(p=0.2, inplace=False)\n",
              "      (shortcut): Sequential()\n",
              "    )\n",
              "  )\n",
              "  (layer3): Sequential(\n",
              "    (0): BasicBlock(\n",
              "      (conv1): Conv2d(128, 192, kernel_size=(3, 3), stride=(2, 2), padding=(1, 1), bias=False)\n",
              "      (bn1): BatchNorm2d(192, eps=1e-05, momentum=0.1, affine=True, track_running_stats=True)\n",
              "      (conv2): Conv2d(192, 192, kernel_size=(3, 3), stride=(1, 1), padding=(1, 1), bias=False)\n",
              "      (bn2): BatchNorm2d(192, eps=1e-05, momentum=0.1, affine=True, track_running_stats=True)\n",
              "      (dropout): Dropout(p=0.2, inplace=False)\n",
              "      (shortcut): Sequential(\n",
              "        (0): Conv2d(128, 192, kernel_size=(1, 1), stride=(2, 2), bias=False)\n",
              "        (1): BatchNorm2d(192, eps=1e-05, momentum=0.1, affine=True, track_running_stats=True)\n",
              "      )\n",
              "    )\n",
              "    (1): BasicBlock(\n",
              "      (conv1): Conv2d(192, 192, kernel_size=(3, 3), stride=(1, 1), padding=(1, 1), bias=False)\n",
              "      (bn1): BatchNorm2d(192, eps=1e-05, momentum=0.1, affine=True, track_running_stats=True)\n",
              "      (conv2): Conv2d(192, 192, kernel_size=(3, 3), stride=(1, 1), padding=(1, 1), bias=False)\n",
              "      (bn2): BatchNorm2d(192, eps=1e-05, momentum=0.1, affine=True, track_running_stats=True)\n",
              "      (dropout): Dropout(p=0.2, inplace=False)\n",
              "      (shortcut): Sequential()\n",
              "    )\n",
              "  )\n",
              "  (layer4): Sequential(\n",
              "    (0): BasicBlock(\n",
              "      (conv1): Conv2d(192, 256, kernel_size=(3, 3), stride=(2, 2), padding=(1, 1), bias=False)\n",
              "      (bn1): BatchNorm2d(256, eps=1e-05, momentum=0.1, affine=True, track_running_stats=True)\n",
              "      (conv2): Conv2d(256, 256, kernel_size=(3, 3), stride=(1, 1), padding=(1, 1), bias=False)\n",
              "      (bn2): BatchNorm2d(256, eps=1e-05, momentum=0.1, affine=True, track_running_stats=True)\n",
              "      (dropout): Dropout(p=0.2, inplace=False)\n",
              "      (shortcut): Sequential(\n",
              "        (0): Conv2d(192, 256, kernel_size=(1, 1), stride=(2, 2), bias=False)\n",
              "        (1): BatchNorm2d(256, eps=1e-05, momentum=0.1, affine=True, track_running_stats=True)\n",
              "      )\n",
              "    )\n",
              "    (1): BasicBlock(\n",
              "      (conv1): Conv2d(256, 256, kernel_size=(3, 3), stride=(1, 1), padding=(1, 1), bias=False)\n",
              "      (bn1): BatchNorm2d(256, eps=1e-05, momentum=0.1, affine=True, track_running_stats=True)\n",
              "      (conv2): Conv2d(256, 256, kernel_size=(3, 3), stride=(1, 1), padding=(1, 1), bias=False)\n",
              "      (bn2): BatchNorm2d(256, eps=1e-05, momentum=0.1, affine=True, track_running_stats=True)\n",
              "      (dropout): Dropout(p=0.2, inplace=False)\n",
              "      (shortcut): Sequential()\n",
              "    )\n",
              "  )\n",
              "  (linear): Linear(in_features=256, out_features=10, bias=True)\n",
              "  (dropout): Dropout(p=0.2, inplace=False)\n",
              ")"
            ]
          },
          "metadata": {},
          "execution_count": 14
        }
      ]
    },
    {
      "cell_type": "code",
      "source": [
        "# Displaying number of trainable parameters:\n",
        "sum(p.numel() for p in model.parameters() if p.requires_grad)"
      ],
      "metadata": {
        "colab": {
          "base_uri": "https://localhost:8080/"
        },
        "id": "0pheyuSU38Ih",
        "outputId": "c8fc90a8-d568-4399-d79d-97d76775f09f"
      },
      "execution_count": 15,
      "outputs": [
        {
          "output_type": "execute_result",
          "data": {
            "text/plain": [
              "4479946"
            ]
          },
          "metadata": {},
          "execution_count": 15
        }
      ]
    },
    {
      "cell_type": "code",
      "source": [
        "# Displaying summary of the model:\n",
        "summary(model, input_size=(3,32,32))"
      ],
      "metadata": {
        "colab": {
          "base_uri": "https://localhost:8080/"
        },
        "id": "mqnQfnaj3_kt",
        "outputId": "edbde60b-dcc8-43a0-f5ed-84100ac4b53e"
      },
      "execution_count": 16,
      "outputs": [
        {
          "output_type": "stream",
          "name": "stdout",
          "text": [
            "----------------------------------------------------------------\n",
            "        Layer (type)               Output Shape         Param #\n",
            "================================================================\n",
            "            Conv2d-1           [-1, 64, 32, 32]           1,728\n",
            "       BatchNorm2d-2           [-1, 64, 32, 32]             128\n",
            "           Dropout-3           [-1, 64, 32, 32]               0\n",
            "            Conv2d-4           [-1, 64, 32, 32]          36,864\n",
            "       BatchNorm2d-5           [-1, 64, 32, 32]             128\n",
            "           Dropout-6           [-1, 64, 32, 32]               0\n",
            "            Conv2d-7           [-1, 64, 32, 32]          36,864\n",
            "       BatchNorm2d-8           [-1, 64, 32, 32]             128\n",
            "        BasicBlock-9           [-1, 64, 32, 32]               0\n",
            "           Conv2d-10           [-1, 64, 32, 32]          36,864\n",
            "      BatchNorm2d-11           [-1, 64, 32, 32]             128\n",
            "          Dropout-12           [-1, 64, 32, 32]               0\n",
            "           Conv2d-13           [-1, 64, 32, 32]          36,864\n",
            "      BatchNorm2d-14           [-1, 64, 32, 32]             128\n",
            "       BasicBlock-15           [-1, 64, 32, 32]               0\n",
            "           Conv2d-16          [-1, 128, 16, 16]          73,728\n",
            "      BatchNorm2d-17          [-1, 128, 16, 16]             256\n",
            "          Dropout-18          [-1, 128, 16, 16]               0\n",
            "           Conv2d-19          [-1, 128, 16, 16]         147,456\n",
            "      BatchNorm2d-20          [-1, 128, 16, 16]             256\n",
            "           Conv2d-21          [-1, 128, 16, 16]           8,192\n",
            "      BatchNorm2d-22          [-1, 128, 16, 16]             256\n",
            "       BasicBlock-23          [-1, 128, 16, 16]               0\n",
            "           Conv2d-24          [-1, 128, 16, 16]         147,456\n",
            "      BatchNorm2d-25          [-1, 128, 16, 16]             256\n",
            "          Dropout-26          [-1, 128, 16, 16]               0\n",
            "           Conv2d-27          [-1, 128, 16, 16]         147,456\n",
            "      BatchNorm2d-28          [-1, 128, 16, 16]             256\n",
            "       BasicBlock-29          [-1, 128, 16, 16]               0\n",
            "           Conv2d-30          [-1, 128, 16, 16]         147,456\n",
            "      BatchNorm2d-31          [-1, 128, 16, 16]             256\n",
            "          Dropout-32          [-1, 128, 16, 16]               0\n",
            "           Conv2d-33          [-1, 128, 16, 16]         147,456\n",
            "      BatchNorm2d-34          [-1, 128, 16, 16]             256\n",
            "       BasicBlock-35          [-1, 128, 16, 16]               0\n",
            "           Conv2d-36            [-1, 192, 8, 8]         221,184\n",
            "      BatchNorm2d-37            [-1, 192, 8, 8]             384\n",
            "          Dropout-38            [-1, 192, 8, 8]               0\n",
            "           Conv2d-39            [-1, 192, 8, 8]         331,776\n",
            "      BatchNorm2d-40            [-1, 192, 8, 8]             384\n",
            "           Conv2d-41            [-1, 192, 8, 8]          24,576\n",
            "      BatchNorm2d-42            [-1, 192, 8, 8]             384\n",
            "       BasicBlock-43            [-1, 192, 8, 8]               0\n",
            "           Conv2d-44            [-1, 192, 8, 8]         331,776\n",
            "      BatchNorm2d-45            [-1, 192, 8, 8]             384\n",
            "          Dropout-46            [-1, 192, 8, 8]               0\n",
            "           Conv2d-47            [-1, 192, 8, 8]         331,776\n",
            "      BatchNorm2d-48            [-1, 192, 8, 8]             384\n",
            "       BasicBlock-49            [-1, 192, 8, 8]               0\n",
            "           Conv2d-50            [-1, 256, 4, 4]         442,368\n",
            "      BatchNorm2d-51            [-1, 256, 4, 4]             512\n",
            "          Dropout-52            [-1, 256, 4, 4]               0\n",
            "           Conv2d-53            [-1, 256, 4, 4]         589,824\n",
            "      BatchNorm2d-54            [-1, 256, 4, 4]             512\n",
            "           Conv2d-55            [-1, 256, 4, 4]          49,152\n",
            "      BatchNorm2d-56            [-1, 256, 4, 4]             512\n",
            "       BasicBlock-57            [-1, 256, 4, 4]               0\n",
            "           Conv2d-58            [-1, 256, 4, 4]         589,824\n",
            "      BatchNorm2d-59            [-1, 256, 4, 4]             512\n",
            "          Dropout-60            [-1, 256, 4, 4]               0\n",
            "           Conv2d-61            [-1, 256, 4, 4]         589,824\n",
            "      BatchNorm2d-62            [-1, 256, 4, 4]             512\n",
            "       BasicBlock-63            [-1, 256, 4, 4]               0\n",
            "           Linear-64                   [-1, 10]           2,570\n",
            "================================================================\n",
            "Total params: 4,479,946\n",
            "Trainable params: 4,479,946\n",
            "Non-trainable params: 0\n",
            "----------------------------------------------------------------\n",
            "Input size (MB): 0.01\n",
            "Forward/backward pass size (MB): 14.25\n",
            "Params size (MB): 17.09\n",
            "Estimated Total Size (MB): 31.35\n",
            "----------------------------------------------------------------\n"
          ]
        }
      ]
    },
    {
      "cell_type": "code",
      "source": [
        "# Initializing batch size Learning Rate annd moment:\n",
        "epochs =65\n",
        "LR = 0.01\n",
        "moment = 0.9"
      ],
      "metadata": {
        "id": "pVJ4mSor4XCR"
      },
      "execution_count": 17,
      "outputs": []
    },
    {
      "cell_type": "code",
      "source": [
        "# Training the model over training and testing datasets:\n",
        "\n",
        "optimizer = optim.SGD(model.parameters(), lr=LR, momentum=moment)\n",
        "scheduler = OneCycleLR(optimizer,max_lr=0.1,total_steps=epochs)\n",
        "\n",
        "for epoch in range(epochs):\n",
        "    print(f'Epoch: {epoch} Learning_Rate {scheduler.get_lr()}')\n",
        "    train(model, device, train_loader, optimizer, epoch)\n",
        "    test(model, device, test_loader)\n",
        "    scheduler.step()"
      ],
      "metadata": {
        "colab": {
          "base_uri": "https://localhost:8080/"
        },
        "id": "kWqkcd5G4f0w",
        "outputId": "cd383599-248f-428c-d97f-81933a12ea66"
      },
      "execution_count": 18,
      "outputs": [
        {
          "output_type": "stream",
          "name": "stderr",
          "text": [
            "/usr/local/lib/python3.7/dist-packages/torch/optim/lr_scheduler.py:1587: UserWarning: To get the last learning rate computed by the scheduler, please use `get_last_lr()`.\n",
            "  \"please use `get_last_lr()`.\", UserWarning)\n"
          ]
        },
        {
          "output_type": "stream",
          "name": "stdout",
          "text": [
            "Epoch: 0 Learning_Rate [0.0040000000000000036]\n"
          ]
        },
        {
          "output_type": "stream",
          "name": "stderr",
          "text": [
            "Loss=1.2184315919876099 Batch_id=1562 Accuracy=42.09: 100%|██████████| 1563/1563 [00:54<00:00, 28.56it/s]\n"
          ]
        },
        {
          "output_type": "stream",
          "name": "stdout",
          "text": [
            "\n",
            "Test set: Average loss: 0.0401, Accuracy: 5327/10000 (53.2700%)\n",
            "\n",
            "Epoch: 1 Learning_Rate [0.004690436303309994]\n"
          ]
        },
        {
          "output_type": "stream",
          "name": "stderr",
          "text": [
            "Loss=0.9453418254852295 Batch_id=1562 Accuracy=61.09: 100%|██████████| 1563/1563 [00:53<00:00, 29.01it/s]\n"
          ]
        },
        {
          "output_type": "stream",
          "name": "stdout",
          "text": [
            "\n",
            "Test set: Average loss: 0.0291, Accuracy: 6720/10000 (67.2000%)\n",
            "\n",
            "Epoch: 2 Learning_Rate [0.006741882617867956]\n"
          ]
        },
        {
          "output_type": "stream",
          "name": "stderr",
          "text": [
            "Loss=0.834365725517273 Batch_id=1562 Accuracy=68.73: 100%|██████████| 1563/1563 [00:53<00:00, 29.15it/s]\n"
          ]
        },
        {
          "output_type": "stream",
          "name": "stdout",
          "text": [
            "\n",
            "Test set: Average loss: 0.0247, Accuracy: 7285/10000 (72.8500%)\n",
            "\n",
            "Epoch: 3 Learning_Rate [0.010095322568262968]\n"
          ]
        },
        {
          "output_type": "stream",
          "name": "stderr",
          "text": [
            "Loss=1.5413126945495605 Batch_id=1562 Accuracy=73.02: 100%|██████████| 1563/1563 [00:54<00:00, 28.66it/s]\n"
          ]
        },
        {
          "output_type": "stream",
          "name": "stdout",
          "text": [
            "\n",
            "Test set: Average loss: 0.0208, Accuracy: 7699/10000 (76.9900%)\n",
            "\n",
            "Epoch: 4 Learning_Rate [0.014654283792714912]\n"
          ]
        },
        {
          "output_type": "stream",
          "name": "stderr",
          "text": [
            "Loss=0.5301264524459839 Batch_id=1562 Accuracy=75.85: 100%|██████████| 1563/1563 [00:54<00:00, 28.58it/s]\n"
          ]
        },
        {
          "output_type": "stream",
          "name": "stdout",
          "text": [
            "\n",
            "Test set: Average loss: 0.0204, Accuracy: 7800/10000 (78.0000%)\n",
            "\n",
            "Epoch: 5 Learning_Rate [0.0202876132772761]\n"
          ]
        },
        {
          "output_type": "stream",
          "name": "stderr",
          "text": [
            "Loss=0.8633145689964294 Batch_id=1562 Accuracy=78.19: 100%|██████████| 1563/1563 [00:54<00:00, 28.55it/s]\n"
          ]
        },
        {
          "output_type": "stream",
          "name": "stdout",
          "text": [
            "\n",
            "Test set: Average loss: 0.0178, Accuracy: 8054/10000 (80.5400%)\n",
            "\n",
            "Epoch: 6 Learning_Rate [0.026833250389252883]\n"
          ]
        },
        {
          "output_type": "stream",
          "name": "stderr",
          "text": [
            "Loss=0.6283314824104309 Batch_id=1562 Accuracy=80.23: 100%|██████████| 1563/1563 [00:55<00:00, 27.93it/s]\n"
          ]
        },
        {
          "output_type": "stream",
          "name": "stdout",
          "text": [
            "\n",
            "Test set: Average loss: 0.0170, Accuracy: 8186/10000 (81.8600%)\n",
            "\n",
            "Epoch: 7 Learning_Rate [0.03410288906654518]\n"
          ]
        },
        {
          "output_type": "stream",
          "name": "stderr",
          "text": [
            "Loss=0.34954631328582764 Batch_id=1562 Accuracy=81.57: 100%|██████████| 1563/1563 [00:54<00:00, 28.80it/s]\n"
          ]
        },
        {
          "output_type": "stream",
          "name": "stdout",
          "text": [
            "\n",
            "Test set: Average loss: 0.0153, Accuracy: 8343/10000 (83.4300%)\n",
            "\n",
            "Epoch: 8 Learning_Rate [0.041887395040205146]\n"
          ]
        },
        {
          "output_type": "stream",
          "name": "stderr",
          "text": [
            "Loss=0.6647899746894836 Batch_id=1562 Accuracy=82.91: 100%|██████████| 1563/1563 [00:54<00:00, 28.87it/s]\n"
          ]
        },
        {
          "output_type": "stream",
          "name": "stdout",
          "text": [
            "\n",
            "Test set: Average loss: 0.0149, Accuracy: 8394/10000 (83.9400%)\n",
            "\n",
            "Epoch: 9 Learning_Rate [0.04996282224658489]\n"
          ]
        },
        {
          "output_type": "stream",
          "name": "stderr",
          "text": [
            "Loss=0.38480332493782043 Batch_id=1562 Accuracy=84.34: 100%|██████████| 1563/1563 [00:54<00:00, 28.55it/s]\n"
          ]
        },
        {
          "output_type": "stream",
          "name": "stdout",
          "text": [
            "\n",
            "Test set: Average loss: 0.0134, Accuracy: 8542/10000 (85.4200%)\n",
            "\n",
            "Epoch: 10 Learning_Rate [0.05809685534785018]\n"
          ]
        },
        {
          "output_type": "stream",
          "name": "stderr",
          "text": [
            "Loss=0.26396894454956055 Batch_id=1562 Accuracy=85.34: 100%|██████████| 1563/1563 [00:55<00:00, 28.34it/s]\n"
          ]
        },
        {
          "output_type": "stream",
          "name": "stdout",
          "text": [
            "\n",
            "Test set: Average loss: 0.0135, Accuracy: 8517/10000 (85.1700%)\n",
            "\n",
            "Epoch: 11 Learning_Rate [0.06605549302127442]\n"
          ]
        },
        {
          "output_type": "stream",
          "name": "stderr",
          "text": [
            "Loss=0.26554498076438904 Batch_id=1562 Accuracy=86.10: 100%|██████████| 1563/1563 [00:53<00:00, 28.99it/s]\n"
          ]
        },
        {
          "output_type": "stream",
          "name": "stdout",
          "text": [
            "\n",
            "Test set: Average loss: 0.0127, Accuracy: 8609/10000 (86.0900%)\n",
            "\n",
            "Epoch: 12 Learning_Rate [0.07360977975124833]\n"
          ]
        },
        {
          "output_type": "stream",
          "name": "stderr",
          "text": [
            "Loss=0.670301079750061 Batch_id=1562 Accuracy=87.28: 100%|██████████| 1563/1563 [00:53<00:00, 28.95it/s]\n"
          ]
        },
        {
          "output_type": "stream",
          "name": "stdout",
          "text": [
            "\n",
            "Test set: Average loss: 0.0139, Accuracy: 8489/10000 (84.8900%)\n",
            "\n",
            "Epoch: 13 Learning_Rate [0.08054239246260576]\n"
          ]
        },
        {
          "output_type": "stream",
          "name": "stderr",
          "text": [
            "Loss=0.12453728169202805 Batch_id=1562 Accuracy=87.77: 100%|██████████| 1563/1563 [00:53<00:00, 28.96it/s]\n"
          ]
        },
        {
          "output_type": "stream",
          "name": "stdout",
          "text": [
            "\n",
            "Test set: Average loss: 0.0122, Accuracy: 8683/10000 (86.8300%)\n",
            "\n",
            "Epoch: 14 Learning_Rate [0.08665389250981717]\n"
          ]
        },
        {
          "output_type": "stream",
          "name": "stderr",
          "text": [
            "Loss=0.41963836550712585 Batch_id=1562 Accuracy=88.45: 100%|██████████| 1563/1563 [00:58<00:00, 26.80it/s]\n"
          ]
        },
        {
          "output_type": "stream",
          "name": "stdout",
          "text": [
            "\n",
            "Test set: Average loss: 0.0118, Accuracy: 8758/10000 (87.5800%)\n",
            "\n",
            "Epoch: 15 Learning_Rate [0.09176846316370442]\n"
          ]
        },
        {
          "output_type": "stream",
          "name": "stderr",
          "text": [
            "Loss=0.04585855081677437 Batch_id=1562 Accuracy=89.02: 100%|██████████| 1563/1563 [00:59<00:00, 26.45it/s]\n"
          ]
        },
        {
          "output_type": "stream",
          "name": "stdout",
          "text": [
            "\n",
            "Test set: Average loss: 0.0107, Accuracy: 8833/10000 (88.3300%)\n",
            "\n",
            "Epoch: 16 Learning_Rate [0.09573896753863052]\n"
          ]
        },
        {
          "output_type": "stream",
          "name": "stderr",
          "text": [
            "Loss=0.5033013820648193 Batch_id=1562 Accuracy=89.71: 100%|██████████| 1563/1563 [00:54<00:00, 28.54it/s]\n"
          ]
        },
        {
          "output_type": "stream",
          "name": "stdout",
          "text": [
            "\n",
            "Test set: Average loss: 0.0109, Accuracy: 8864/10000 (88.6400%)\n",
            "\n",
            "Epoch: 17 Learning_Rate [0.09845118145280796]\n"
          ]
        },
        {
          "output_type": "stream",
          "name": "stderr",
          "text": [
            "Loss=0.5647077560424805 Batch_id=1562 Accuracy=90.15: 100%|██████████| 1563/1563 [00:54<00:00, 28.67it/s]\n"
          ]
        },
        {
          "output_type": "stream",
          "name": "stdout",
          "text": [
            "\n",
            "Test set: Average loss: 0.0105, Accuracy: 8903/10000 (89.0300%)\n",
            "\n",
            "Epoch: 18 Learning_Rate [0.09982707945004128]\n"
          ]
        },
        {
          "output_type": "stream",
          "name": "stderr",
          "text": [
            "Loss=0.07976207882165909 Batch_id=1562 Accuracy=90.51: 100%|██████████| 1563/1563 [00:53<00:00, 29.08it/s]\n"
          ]
        },
        {
          "output_type": "stream",
          "name": "stdout",
          "text": [
            "\n",
            "Test set: Average loss: 0.0111, Accuracy: 8825/10000 (88.2500%)\n",
            "\n",
            "Epoch: 19 Learning_Rate [0.09997020714672541]\n"
          ]
        },
        {
          "output_type": "stream",
          "name": "stderr",
          "text": [
            "Loss=0.36034253239631653 Batch_id=1562 Accuracy=91.08: 100%|██████████| 1563/1563 [00:53<00:00, 29.05it/s]\n"
          ]
        },
        {
          "output_type": "stream",
          "name": "stdout",
          "text": [
            "\n",
            "Test set: Average loss: 0.0100, Accuracy: 8910/10000 (89.1000%)\n",
            "\n",
            "Epoch: 20 Learning_Rate [0.0997320773064547]\n"
          ]
        },
        {
          "output_type": "stream",
          "name": "stderr",
          "text": [
            "Loss=0.35337477922439575 Batch_id=1562 Accuracy=91.60: 100%|██████████| 1563/1563 [00:53<00:00, 29.00it/s]\n"
          ]
        },
        {
          "output_type": "stream",
          "name": "stdout",
          "text": [
            "\n",
            "Test set: Average loss: 0.0103, Accuracy: 8893/10000 (88.9300%)\n",
            "\n",
            "Epoch: 21 Learning_Rate [0.09925695242304589]\n"
          ]
        },
        {
          "output_type": "stream",
          "name": "stderr",
          "text": [
            "Loss=0.3639674782752991 Batch_id=1562 Accuracy=92.10: 100%|██████████| 1563/1563 [00:54<00:00, 28.67it/s]\n"
          ]
        },
        {
          "output_type": "stream",
          "name": "stdout",
          "text": [
            "\n",
            "Test set: Average loss: 0.0093, Accuracy: 9024/10000 (90.2400%)\n",
            "\n",
            "Epoch: 22 Learning_Rate [0.09854709668293912]\n"
          ]
        },
        {
          "output_type": "stream",
          "name": "stderr",
          "text": [
            "Loss=0.18152040243148804 Batch_id=1562 Accuracy=92.34: 100%|██████████| 1563/1563 [00:53<00:00, 29.13it/s]\n"
          ]
        },
        {
          "output_type": "stream",
          "name": "stdout",
          "text": [
            "\n",
            "Test set: Average loss: 0.0098, Accuracy: 8956/10000 (89.5600%)\n",
            "\n",
            "Epoch: 23 Learning_Rate [0.09760589287200253]\n"
          ]
        },
        {
          "output_type": "stream",
          "name": "stderr",
          "text": [
            "Loss=0.1572881042957306 Batch_id=1562 Accuracy=92.73: 100%|██████████| 1563/1563 [00:53<00:00, 29.04it/s]\n"
          ]
        },
        {
          "output_type": "stream",
          "name": "stdout",
          "text": [
            "\n",
            "Test set: Average loss: 0.0102, Accuracy: 8952/10000 (89.5200%)\n",
            "\n",
            "Epoch: 24 Learning_Rate [0.0964378262550171]\n"
          ]
        },
        {
          "output_type": "stream",
          "name": "stderr",
          "text": [
            "Loss=0.02531849965453148 Batch_id=1562 Accuracy=93.01: 100%|██████████| 1563/1563 [00:53<00:00, 29.18it/s]\n"
          ]
        },
        {
          "output_type": "stream",
          "name": "stdout",
          "text": [
            "\n",
            "Test set: Average loss: 0.0096, Accuracy: 9014/10000 (90.1400%)\n",
            "\n",
            "Epoch: 25 Learning_Rate [0.09504846320134738]\n"
          ]
        },
        {
          "output_type": "stream",
          "name": "stderr",
          "text": [
            "Loss=0.11612506955862045 Batch_id=1562 Accuracy=93.22: 100%|██████████| 1563/1563 [00:55<00:00, 28.38it/s]\n"
          ]
        },
        {
          "output_type": "stream",
          "name": "stdout",
          "text": [
            "\n",
            "Test set: Average loss: 0.0098, Accuracy: 9009/10000 (90.0900%)\n",
            "\n",
            "Epoch: 26 Learning_Rate [0.09344442465865659]\n"
          ]
        },
        {
          "output_type": "stream",
          "name": "stderr",
          "text": [
            "Loss=0.041871458292007446 Batch_id=1562 Accuracy=93.74: 100%|██████████| 1563/1563 [00:53<00:00, 29.02it/s]\n"
          ]
        },
        {
          "output_type": "stream",
          "name": "stdout",
          "text": [
            "\n",
            "Test set: Average loss: 0.0093, Accuracy: 9042/10000 (90.4200%)\n",
            "\n",
            "Epoch: 27 Learning_Rate [0.09163335460107579]\n"
          ]
        },
        {
          "output_type": "stream",
          "name": "stderr",
          "text": [
            "Loss=0.050342440605163574 Batch_id=1562 Accuracy=93.91: 100%|██████████| 1563/1563 [00:54<00:00, 28.91it/s]\n"
          ]
        },
        {
          "output_type": "stream",
          "name": "stdout",
          "text": [
            "\n",
            "Test set: Average loss: 0.0089, Accuracy: 9095/10000 (90.9500%)\n",
            "\n",
            "Epoch: 28 Learning_Rate [0.08962388360218614]\n"
          ]
        },
        {
          "output_type": "stream",
          "name": "stderr",
          "text": [
            "Loss=0.04139097407460213 Batch_id=1562 Accuracy=94.06: 100%|██████████| 1563/1563 [00:55<00:00, 28.37it/s]\n"
          ]
        },
        {
          "output_type": "stream",
          "name": "stdout",
          "text": [
            "\n",
            "Test set: Average loss: 0.0095, Accuracy: 9037/10000 (90.3700%)\n",
            "\n",
            "Epoch: 29 Learning_Rate [0.08742558770640542]\n"
          ]
        },
        {
          "output_type": "stream",
          "name": "stderr",
          "text": [
            "Loss=0.02461562119424343 Batch_id=1562 Accuracy=94.35: 100%|██████████| 1563/1563 [00:54<00:00, 28.80it/s]\n"
          ]
        },
        {
          "output_type": "stream",
          "name": "stdout",
          "text": [
            "\n",
            "Test set: Average loss: 0.0098, Accuracy: 9023/10000 (90.2300%)\n",
            "\n",
            "Epoch: 30 Learning_Rate [0.08504894279477551]\n"
          ]
        },
        {
          "output_type": "stream",
          "name": "stderr",
          "text": [
            "Loss=0.9392337799072266 Batch_id=1562 Accuracy=94.52: 100%|██████████| 1563/1563 [00:53<00:00, 28.96it/s]\n"
          ]
        },
        {
          "output_type": "stream",
          "name": "stdout",
          "text": [
            "\n",
            "Test set: Average loss: 0.0093, Accuracy: 9062/10000 (90.6200%)\n",
            "\n",
            "Epoch: 31 Learning_Rate [0.08250527466261848]\n"
          ]
        },
        {
          "output_type": "stream",
          "name": "stderr",
          "text": [
            "Loss=1.000580072402954 Batch_id=1562 Accuracy=94.94: 100%|██████████| 1563/1563 [00:54<00:00, 28.81it/s]\n"
          ]
        },
        {
          "output_type": "stream",
          "name": "stdout",
          "text": [
            "\n",
            "Test set: Average loss: 0.0099, Accuracy: 9030/10000 (90.3000%)\n",
            "\n",
            "Epoch: 32 Learning_Rate [0.07980670504696417]\n"
          ]
        },
        {
          "output_type": "stream",
          "name": "stderr",
          "text": [
            "Loss=0.18042749166488647 Batch_id=1562 Accuracy=95.18: 100%|██████████| 1563/1563 [00:56<00:00, 27.76it/s]\n"
          ]
        },
        {
          "output_type": "stream",
          "name": "stdout",
          "text": [
            "\n",
            "Test set: Average loss: 0.0091, Accuracy: 9098/10000 (90.9800%)\n",
            "\n",
            "Epoch: 33 Learning_Rate [0.07696609386095307]\n"
          ]
        },
        {
          "output_type": "stream",
          "name": "stderr",
          "text": [
            "Loss=0.12387190759181976 Batch_id=1562 Accuracy=95.36: 100%|██████████| 1563/1563 [00:54<00:00, 28.91it/s]\n"
          ]
        },
        {
          "output_type": "stream",
          "name": "stdout",
          "text": [
            "\n",
            "Test set: Average loss: 0.0100, Accuracy: 9056/10000 (90.5600%)\n",
            "\n",
            "Epoch: 34 Learning_Rate [0.07399697791049374]\n"
          ]
        },
        {
          "output_type": "stream",
          "name": "stderr",
          "text": [
            "Loss=0.03769265115261078 Batch_id=1562 Accuracy=95.49: 100%|██████████| 1563/1563 [00:53<00:00, 28.96it/s]\n"
          ]
        },
        {
          "output_type": "stream",
          "name": "stdout",
          "text": [
            "\n",
            "Test set: Average loss: 0.0089, Accuracy: 9135/10000 (91.3500%)\n",
            "\n",
            "Epoch: 35 Learning_Rate [0.07091350638521811]\n"
          ]
        },
        {
          "output_type": "stream",
          "name": "stderr",
          "text": [
            "Loss=0.006567742209881544 Batch_id=1562 Accuracy=95.72: 100%|██████████| 1563/1563 [00:54<00:00, 28.45it/s]\n"
          ]
        },
        {
          "output_type": "stream",
          "name": "stdout",
          "text": [
            "\n",
            "Test set: Average loss: 0.0087, Accuracy: 9164/10000 (91.6400%)\n",
            "\n",
            "Epoch: 36 Learning_Rate [0.06773037343114938]\n"
          ]
        },
        {
          "output_type": "stream",
          "name": "stderr",
          "text": [
            "Loss=0.01067080907523632 Batch_id=1562 Accuracy=96.00: 100%|██████████| 1563/1563 [00:54<00:00, 28.82it/s]\n"
          ]
        },
        {
          "output_type": "stream",
          "name": "stdout",
          "text": [
            "\n",
            "Test set: Average loss: 0.0087, Accuracy: 9161/10000 (91.6100%)\n",
            "\n",
            "Epoch: 37 Learning_Rate [0.06446274812640448]\n"
          ]
        },
        {
          "output_type": "stream",
          "name": "stderr",
          "text": [
            "Loss=0.11916317045688629 Batch_id=1562 Accuracy=96.03: 100%|██████████| 1563/1563 [00:54<00:00, 28.65it/s]\n"
          ]
        },
        {
          "output_type": "stream",
          "name": "stdout",
          "text": [
            "\n",
            "Test set: Average loss: 0.0091, Accuracy: 9133/10000 (91.3300%)\n",
            "\n",
            "Epoch: 38 Learning_Rate [0.06112620219362893]\n"
          ]
        },
        {
          "output_type": "stream",
          "name": "stderr",
          "text": [
            "Loss=0.3034539520740509 Batch_id=1562 Accuracy=96.20: 100%|██████████| 1563/1563 [00:54<00:00, 28.58it/s]\n"
          ]
        },
        {
          "output_type": "stream",
          "name": "stdout",
          "text": [
            "\n",
            "Test set: Average loss: 0.0088, Accuracy: 9147/10000 (91.4700%)\n",
            "\n",
            "Epoch: 39 Learning_Rate [0.0577366357936471]\n"
          ]
        },
        {
          "output_type": "stream",
          "name": "stderr",
          "text": [
            "Loss=0.04909631982445717 Batch_id=1562 Accuracy=96.44: 100%|██████████| 1563/1563 [00:55<00:00, 28.29it/s]\n"
          ]
        },
        {
          "output_type": "stream",
          "name": "stdout",
          "text": [
            "\n",
            "Test set: Average loss: 0.0089, Accuracy: 9178/10000 (91.7800%)\n",
            "\n",
            "Epoch: 40 Learning_Rate [0.054310201753955]\n"
          ]
        },
        {
          "output_type": "stream",
          "name": "stderr",
          "text": [
            "Loss=0.05874983221292496 Batch_id=1562 Accuracy=96.64: 100%|██████████| 1563/1563 [00:54<00:00, 28.53it/s]\n"
          ]
        },
        {
          "output_type": "stream",
          "name": "stdout",
          "text": [
            "\n",
            "Test set: Average loss: 0.0087, Accuracy: 9189/10000 (91.8900%)\n",
            "\n",
            "Epoch: 41 Learning_Rate [0.05086322859314125]\n"
          ]
        },
        {
          "output_type": "stream",
          "name": "stderr",
          "text": [
            "Loss=0.3185579180717468 Batch_id=1562 Accuracy=96.88: 100%|██████████| 1563/1563 [00:54<00:00, 28.76it/s]\n"
          ]
        },
        {
          "output_type": "stream",
          "name": "stdout",
          "text": [
            "\n",
            "Test set: Average loss: 0.0088, Accuracy: 9195/10000 (91.9500%)\n",
            "\n",
            "Epoch: 42 Learning_Rate [0.0474121427080601]\n"
          ]
        },
        {
          "output_type": "stream",
          "name": "stderr",
          "text": [
            "Loss=0.009259154088795185 Batch_id=1562 Accuracy=96.98: 100%|██████████| 1563/1563 [00:54<00:00, 28.87it/s]\n"
          ]
        },
        {
          "output_type": "stream",
          "name": "stdout",
          "text": [
            "\n",
            "Test set: Average loss: 0.0087, Accuracy: 9224/10000 (92.2400%)\n",
            "\n",
            "Epoch: 43 Learning_Rate [0.04397339009456991]\n"
          ]
        },
        {
          "output_type": "stream",
          "name": "stderr",
          "text": [
            "Loss=0.15716813504695892 Batch_id=1562 Accuracy=97.18: 100%|██████████| 1563/1563 [00:55<00:00, 28.26it/s]\n"
          ]
        },
        {
          "output_type": "stream",
          "name": "stdout",
          "text": [
            "\n",
            "Test set: Average loss: 0.0093, Accuracy: 9214/10000 (92.1400%)\n",
            "\n",
            "Epoch: 44 Learning_Rate [0.04056335797487326]\n"
          ]
        },
        {
          "output_type": "stream",
          "name": "stderr",
          "text": [
            "Loss=0.012487657368183136 Batch_id=1562 Accuracy=97.36: 100%|██████████| 1563/1563 [00:54<00:00, 28.72it/s]\n"
          ]
        },
        {
          "output_type": "stream",
          "name": "stdout",
          "text": [
            "\n",
            "Test set: Average loss: 0.0090, Accuracy: 9238/10000 (92.3800%)\n",
            "\n",
            "Epoch: 45 Learning_Rate [0.03719829670494066]\n"
          ]
        },
        {
          "output_type": "stream",
          "name": "stderr",
          "text": [
            "Loss=0.25633862614631653 Batch_id=1562 Accuracy=97.60: 100%|██████████| 1563/1563 [00:53<00:00, 28.95it/s]\n"
          ]
        },
        {
          "output_type": "stream",
          "name": "stdout",
          "text": [
            "\n",
            "Test set: Average loss: 0.0090, Accuracy: 9242/10000 (92.4200%)\n",
            "\n",
            "Epoch: 46 Learning_Rate [0.03389424233416384]\n"
          ]
        },
        {
          "output_type": "stream",
          "name": "stderr",
          "text": [
            "Loss=0.0051224431954324245 Batch_id=1562 Accuracy=97.71: 100%|██████████| 1563/1563 [00:54<00:00, 28.92it/s]\n"
          ]
        },
        {
          "output_type": "stream",
          "name": "stdout",
          "text": [
            "\n",
            "Test set: Average loss: 0.0088, Accuracy: 9231/10000 (92.3100%)\n",
            "\n",
            "Epoch: 47 Learning_Rate [0.030666940186277653]\n"
          ]
        },
        {
          "output_type": "stream",
          "name": "stderr",
          "text": [
            "Loss=0.002314257435500622 Batch_id=1562 Accuracy=97.90: 100%|██████████| 1563/1563 [00:53<00:00, 29.26it/s]\n"
          ]
        },
        {
          "output_type": "stream",
          "name": "stdout",
          "text": [
            "\n",
            "Test set: Average loss: 0.0093, Accuracy: 9238/10000 (92.3800%)\n",
            "\n",
            "Epoch: 48 Learning_Rate [0.02753176982572212]\n"
          ]
        },
        {
          "output_type": "stream",
          "name": "stderr",
          "text": [
            "Loss=0.05058862641453743 Batch_id=1562 Accuracy=98.14: 100%|██████████| 1563/1563 [00:54<00:00, 28.72it/s]\n"
          ]
        },
        {
          "output_type": "stream",
          "name": "stdout",
          "text": [
            "\n",
            "Test set: Average loss: 0.0096, Accuracy: 9209/10000 (92.0900%)\n",
            "\n",
            "Epoch: 49 Learning_Rate [0.0245036717670141]\n"
          ]
        },
        {
          "output_type": "stream",
          "name": "stderr",
          "text": [
            "Loss=0.10121101886034012 Batch_id=1562 Accuracy=98.30: 100%|██████████| 1563/1563 [00:54<00:00, 28.94it/s]\n"
          ]
        },
        {
          "output_type": "stream",
          "name": "stdout",
          "text": [
            "\n",
            "Test set: Average loss: 0.0091, Accuracy: 9243/10000 (92.4300%)\n",
            "\n",
            "Epoch: 50 Learning_Rate [0.021597076276391566]\n"
          ]
        },
        {
          "output_type": "stream",
          "name": "stderr",
          "text": [
            "Loss=0.0232356246560812 Batch_id=1562 Accuracy=98.39: 100%|██████████| 1563/1563 [00:54<00:00, 28.82it/s]\n"
          ]
        },
        {
          "output_type": "stream",
          "name": "stdout",
          "text": [
            "\n",
            "Test set: Average loss: 0.0097, Accuracy: 9205/10000 (92.0500%)\n",
            "\n",
            "Epoch: 51 Learning_Rate [0.0188258346050237]\n"
          ]
        },
        {
          "output_type": "stream",
          "name": "stderr",
          "text": [
            "Loss=0.0018940736772492528 Batch_id=1562 Accuracy=98.58: 100%|██████████| 1563/1563 [00:54<00:00, 28.75it/s]\n"
          ]
        },
        {
          "output_type": "stream",
          "name": "stdout",
          "text": [
            "\n",
            "Test set: Average loss: 0.0090, Accuracy: 9265/10000 (92.6500%)\n",
            "\n",
            "Epoch: 52 Learning_Rate [0.016203152981491113]\n"
          ]
        },
        {
          "output_type": "stream",
          "name": "stderr",
          "text": [
            "Loss=0.05928141996264458 Batch_id=1562 Accuracy=98.63: 100%|██████████| 1563/1563 [00:54<00:00, 28.92it/s]\n"
          ]
        },
        {
          "output_type": "stream",
          "name": "stdout",
          "text": [
            "\n",
            "Test set: Average loss: 0.0095, Accuracy: 9275/10000 (92.7500%)\n",
            "\n",
            "Epoch: 53 Learning_Rate [0.013741529678092617]\n"
          ]
        },
        {
          "output_type": "stream",
          "name": "stderr",
          "text": [
            "Loss=0.005736132152378559 Batch_id=1562 Accuracy=98.91: 100%|██████████| 1563/1563 [00:54<00:00, 28.43it/s]\n"
          ]
        },
        {
          "output_type": "stream",
          "name": "stdout",
          "text": [
            "\n",
            "Test set: Average loss: 0.0090, Accuracy: 9288/10000 (92.8800%)\n",
            "\n",
            "Epoch: 54 Learning_Rate [0.011452695450885978]\n"
          ]
        },
        {
          "output_type": "stream",
          "name": "stderr",
          "text": [
            "Loss=0.00982111506164074 Batch_id=1562 Accuracy=98.97: 100%|██████████| 1563/1563 [00:54<00:00, 28.68it/s]\n"
          ]
        },
        {
          "output_type": "stream",
          "name": "stdout",
          "text": [
            "\n",
            "Test set: Average loss: 0.0094, Accuracy: 9278/10000 (92.7800%)\n",
            "\n",
            "Epoch: 55 Learning_Rate [0.009347557637293264]\n"
          ]
        },
        {
          "output_type": "stream",
          "name": "stderr",
          "text": [
            "Loss=0.002273584483191371 Batch_id=1562 Accuracy=99.08: 100%|██████████| 1563/1563 [00:54<00:00, 28.73it/s]\n"
          ]
        },
        {
          "output_type": "stream",
          "name": "stdout",
          "text": [
            "\n",
            "Test set: Average loss: 0.0085, Accuracy: 9318/10000 (93.1800%)\n",
            "\n",
            "Epoch: 56 Learning_Rate [0.007436148177670761]\n"
          ]
        },
        {
          "output_type": "stream",
          "name": "stderr",
          "text": [
            "Loss=0.0018026743782684207 Batch_id=1562 Accuracy=99.16: 100%|██████████| 1563/1563 [00:54<00:00, 28.65it/s]\n"
          ]
        },
        {
          "output_type": "stream",
          "name": "stdout",
          "text": [
            "\n",
            "Test set: Average loss: 0.0091, Accuracy: 9309/10000 (93.0900%)\n",
            "\n",
            "Epoch: 57 Learning_Rate [0.005727575808544641]\n"
          ]
        },
        {
          "output_type": "stream",
          "name": "stderr",
          "text": [
            "Loss=0.009600612334907055 Batch_id=1562 Accuracy=99.13: 100%|██████████| 1563/1563 [00:55<00:00, 28.41it/s]\n"
          ]
        },
        {
          "output_type": "stream",
          "name": "stdout",
          "text": [
            "\n",
            "Test set: Average loss: 0.0091, Accuracy: 9315/10000 (93.1500%)\n",
            "\n",
            "Epoch: 58 Learning_Rate [0.00422998265533339]\n"
          ]
        },
        {
          "output_type": "stream",
          "name": "stderr",
          "text": [
            "Loss=0.0012140468461439013 Batch_id=1562 Accuracy=99.34: 100%|██████████| 1563/1563 [00:54<00:00, 28.78it/s]\n"
          ]
        },
        {
          "output_type": "stream",
          "name": "stdout",
          "text": [
            "\n",
            "Test set: Average loss: 0.0088, Accuracy: 9350/10000 (93.5000%)\n",
            "\n",
            "Epoch: 59 Learning_Rate [0.0029505054314122557]\n"
          ]
        },
        {
          "output_type": "stream",
          "name": "stderr",
          "text": [
            "Loss=0.001362233655527234 Batch_id=1562 Accuracy=99.39: 100%|██████████| 1563/1563 [00:54<00:00, 28.43it/s]\n"
          ]
        },
        {
          "output_type": "stream",
          "name": "stdout",
          "text": [
            "\n",
            "Test set: Average loss: 0.0090, Accuracy: 9331/10000 (93.3100%)\n",
            "\n",
            "Epoch: 60 Learning_Rate [0.0018952414284239454]\n"
          ]
        },
        {
          "output_type": "stream",
          "name": "stderr",
          "text": [
            "Loss=0.00019194401102140546 Batch_id=1562 Accuracy=99.39: 100%|██████████| 1563/1563 [00:54<00:00, 28.44it/s]\n"
          ]
        },
        {
          "output_type": "stream",
          "name": "stdout",
          "text": [
            "\n",
            "Test set: Average loss: 0.0091, Accuracy: 9335/10000 (93.3500%)\n",
            "\n",
            "Epoch: 61 Learning_Rate [0.0010692194599072938]\n"
          ]
        },
        {
          "output_type": "stream",
          "name": "stderr",
          "text": [
            "Loss=0.053236544132232666 Batch_id=1562 Accuracy=99.45: 100%|██████████| 1563/1563 [00:55<00:00, 28.04it/s]\n"
          ]
        },
        {
          "output_type": "stream",
          "name": "stdout",
          "text": [
            "\n",
            "Test set: Average loss: 0.0092, Accuracy: 9330/10000 (93.3000%)\n",
            "\n",
            "Epoch: 62 Learning_Rate [0.00047637589671063827]\n"
          ]
        },
        {
          "output_type": "stream",
          "name": "stderr",
          "text": [
            "Loss=0.0020568042527884245 Batch_id=1562 Accuracy=99.38: 100%|██████████| 1563/1563 [00:54<00:00, 28.52it/s]\n"
          ]
        },
        {
          "output_type": "stream",
          "name": "stdout",
          "text": [
            "\n",
            "Test set: Average loss: 0.0091, Accuracy: 9313/10000 (93.1300%)\n",
            "\n",
            "Epoch: 63 Learning_Rate [0.00011953590839208394]\n"
          ]
        },
        {
          "output_type": "stream",
          "name": "stderr",
          "text": [
            "Loss=0.0020177443511784077 Batch_id=1562 Accuracy=99.44: 100%|██████████| 1563/1563 [00:54<00:00, 28.59it/s]\n"
          ]
        },
        {
          "output_type": "stream",
          "name": "stdout",
          "text": [
            "\n",
            "Test set: Average loss: 0.0089, Accuracy: 9361/10000 (93.6100%)\n",
            "\n",
            "Epoch: 64 Learning_Rate [4e-07]\n"
          ]
        },
        {
          "output_type": "stream",
          "name": "stderr",
          "text": [
            "Loss=0.005041799508035183 Batch_id=1562 Accuracy=99.47: 100%|██████████| 1563/1563 [00:55<00:00, 27.97it/s]\n"
          ]
        },
        {
          "output_type": "stream",
          "name": "stdout",
          "text": [
            "\n",
            "Test set: Average loss: 0.0091, Accuracy: 9332/10000 (93.3200%)\n",
            "\n"
          ]
        }
      ]
    },
    {
      "cell_type": "code",
      "source": [
        "#converting from cuda tensors to .cpu()\n",
        "\n",
        "arr_train=np.array(torch.Tensor(train_losses).cpu())\n",
        "\n",
        "arr_test=np.array(torch.Tensor(test_losses_l1).cpu())\n",
        "\n",
        "arr_train_acc=np.array(torch.Tensor(train_acc).cpu())\n",
        "\n",
        "arr_test_acc=np.array(torch.Tensor(test_acc_l1).cpu())"
      ],
      "metadata": {
        "id": "iqnOh0CUMNXI"
      },
      "execution_count": 19,
      "outputs": []
    },
    {
      "cell_type": "code",
      "source": [
        "# Getting the train loss for the last batch for every epoch:\n",
        "arr_train1 =[]\n",
        "for i in range(len(arr_train)):\n",
        "  if (i%1563) == 0:\n",
        "    arr_train1.append(arr_train[i])"
      ],
      "metadata": {
        "id": "pjxg_vW7Qbem"
      },
      "execution_count": 20,
      "outputs": []
    },
    {
      "cell_type": "code",
      "source": [
        "# Plotting the accuracy:\n",
        "plt.plot(arr_train_acc)\n",
        "plt.plot(arr_test_acc)\n",
        "plt.legend([\"train\",\"test\"])\n",
        "plt.title(\"Epoch vs Accuracy\")\n",
        "plt.xlabel(\"Epoch\")\n",
        "plt.ylabel(\"Accuracy\")\n",
        "plt.show()"
      ],
      "metadata": {
        "colab": {
          "base_uri": "https://localhost:8080/",
          "height": 295
        },
        "id": "tlZoJZ8TQj5c",
        "outputId": "faa74098-f38c-42d5-8a42-4fbc04622ebc"
      },
      "execution_count": 21,
      "outputs": [
        {
          "output_type": "display_data",
          "data": {
            "text/plain": [
              "<Figure size 432x288 with 1 Axes>"
            ],
            "image/png": "[encoded data removed]"
          },
          "metadata": {
            "needs_background": "light"
          }
        }
      ]
    },
    {
      "cell_type": "code",
      "source": [],
      "metadata": {
        "id": "h7XjktuHUt-Q"
      },
      "execution_count": 21,
      "outputs": []
    },
    {
      "cell_type": "code",
      "source": [
        "# Printing train  and test loss:\n",
        "plt.plot(arr_train1 )\n",
        "plt.legend([\"train\"])\n",
        "plt.title(\"Loss vs Epoch\")\n",
        "plt.xlabel(\"Epoch\")\n",
        "plt.ylabel(\"Loss\")\n",
        "plt.show()"
      ],
      "metadata": {
        "colab": {
          "base_uri": "https://localhost:8080/",
          "height": 295
        },
        "id": "6xJJJvwEQqDV",
        "outputId": "d5e3767b-2884-42a7-da3c-16ac64ff02f2"
      },
      "execution_count": 22,
      "outputs": [
        {
          "output_type": "display_data",
          "data": {
            "text/plain": [
              "<Figure size 432x288 with 1 Axes>"
            ],
            "image/png": "[encoded data removed]"
          },
          "metadata": {
            "needs_background": "light"
          }
        }
      ]
    },
    {
      "cell_type": "code",
      "source": [
        "\n",
        "plt.plot(arr_test)\n",
        "plt.legend([\"test\"])\n",
        "plt.title(\"Loss vs Epoch\")\n",
        "plt.xlabel(\"Epoch\")\n",
        "plt.ylabel(\"Loss\")\n",
        "plt.show()"
      ],
      "metadata": {
        "colab": {
          "base_uri": "https://localhost:8080/",
          "height": 295
        },
        "id": "bgMe_S3rkFZP",
        "outputId": "9889b5cc-98b8-48dd-c3c9-160b5158bae0"
      },
      "execution_count": 23,
      "outputs": [
        {
          "output_type": "display_data",
          "data": {
            "text/plain": [
              "<Figure size 432x288 with 1 Axes>"
            ],
            "image/png": "[encoded data removed]"
          },
          "metadata": {
            "needs_background": "light"
          }
        }
      ]
    },
    {
      "cell_type": "code",
      "source": [
        "# Save random initial weights:\n",
        "#torch.save(model.state_dict(), 'DLMiniProjectTry2.pt')\n",
        "\n",
        "model.cpu()\n",
        "model_scripted = torch.jit.script(model)\n",
        "model_scripted.save('ResNetSGD.pt')\n",
        "print(\"Saved Model\")"
      ],
      "metadata": {
        "id": "PtoV7OMFRYUL",
        "colab": {
          "base_uri": "https://localhost:8080/"
        },
        "outputId": "00e72ade-6be8-46c9-b066-8f66f86752fd"
      },
      "execution_count": 24,
      "outputs": [
        {
          "output_type": "stream",
          "name": "stdout",
          "text": [
            "Saved Model\n"
          ]
        }
      ]
    }
  ]
}